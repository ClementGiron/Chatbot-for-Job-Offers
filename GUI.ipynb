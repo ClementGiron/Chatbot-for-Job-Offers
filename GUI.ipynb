{
 "cells": [
  {
   "cell_type": "code",
   "execution_count": 21,
   "metadata": {
    "collapsed": false
   },
   "outputs": [
    {
     "name": "stdout",
     "output_type": "stream",
     "text": [
      "sqfvgjskhvq\n",
      "sqfvgjskhvq\n",
      "sqfvgjskhvq\n",
      "sqfvgjskhvq\n",
      "sqfvgjskhvq\n",
      "sqfvgjskhvq\n",
      "sqfvgjsk\n",
      "sqfvgjsk\n",
      "sqfvgjsk\n",
      "sqfvgjsk\n",
      "sqfvgjsk\n",
      "sqfvgjsk\n",
      "sqfvgjsk\n",
      "sqfvgjsk\n",
      "sqfvgjsk\n",
      "sqfvgjsk\n",
      "sqfvgjsk\n"
     ]
    }
   ],
   "source": [
    "from tkinter import * \n",
    "\n",
    "def send_info(event):\n",
    "    print(entree.get())\n",
    "    LabelResultat.configure(text = reponse)\n",
    "    \n",
    "def reset(event):\n",
    "    print(\"reset\")\n",
    "    label.configure(text = question)\n",
    "    entree.delete(0, 'end')\n",
    "    LabelResultat.configure(text = \"\")\n",
    "\n",
    "question = \"Quel emploi cherchez-vous ?\"\n",
    "reponse = \"bla bla bla\"\n",
    "    \n",
    "fenetre = Tk()\n",
    "fenetre.wm_title(\"Chatbot\")\n",
    "fenetre.resizable(width=True, height=True)\n",
    "fenetre.bind('<Return>', send_info)\n",
    "\n",
    "label = Label(fenetre, text=question)\n",
    "label.grid(row=0,column=0)\n",
    "\n",
    "entree = Entry(fenetre, textvariable=' ', width=30)\n",
    "entree.grid(row=1,column=0)\n",
    "\n",
    "ok_button = Button(fenetre, text ='OK')\n",
    "ok_button.bind(\"<Button-1>\", send_info)\n",
    "ok_button.grid(row=2,column=0)\n",
    "\n",
    "reset_button = Button(fenetre, text ='Reset')\n",
    "reset_button.bind(\"<Button-1>\", reset)\n",
    "reset_button.grid(row=2,column=1)\n",
    "\n",
    "quit_button = Button(fenetre, text ='Quitter', command=fenetre.destroy)\n",
    "quit_button.grid(row=2,column=2)\n",
    "\n",
    "LabelResultat = Label(fenetre, text = reponse, width=30, wraplength=250)\n",
    "LabelResultat.grid(row=3,column=0)\n",
    "\n",
    "\n",
    "fenetre.mainloop()"
   ]
  }
 ],
 "metadata": {
  "anaconda-cloud": {},
  "kernelspec": {
   "display_name": "Python [conda root]",
   "language": "python",
   "name": "conda-root-py"
  },
  "language_info": {
   "codemirror_mode": {
    "name": "ipython",
    "version": 3
   },
   "file_extension": ".py",
   "mimetype": "text/x-python",
   "name": "python",
   "nbconvert_exporter": "python",
   "pygments_lexer": "ipython3",
   "version": "3.5.2"
  }
 },
 "nbformat": 4,
 "nbformat_minor": 1
}
