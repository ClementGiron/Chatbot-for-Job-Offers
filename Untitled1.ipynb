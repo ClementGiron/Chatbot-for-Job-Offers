{
 "cells": [
  {
   "cell_type": "code",
   "execution_count": 12,
   "metadata": {
    "collapsed": false
   },
   "outputs": [],
   "source": [
    "import tkinter as tk\n",
    "\n",
    "def populate(frame):\n",
    "    '''Put in some fake data'''\n",
    "    for row in range(100):\n",
    "        tk.Label(frame, text=\"%s\" % row, width=3, borderwidth=\"1\", \n",
    "                 relief=\"solid\").grid(row=row, column=0)\n",
    "        t=\"this is the secondfrfffffffffffffffffffffff\\n\\n\\n\\n\\n\\n\\n\\n\\n\\nfffffffffffffrgtrgtrtgtrrrhtrt column for row %s\" %row\n",
    "        tk.Label(frame, text=t).grid(row=row, column=1)\n",
    "    \n",
    "\n",
    "def onFrameConfigure(canvas):\n",
    "    '''Reset the scroll region to encompass the inner frame'''\n",
    "    canvas.configure(scrollregion=canvas.bbox(\"all\"))\n",
    "\n",
    "root = tk.Tk()\n",
    "canvas = tk.Canvas(root, borderwidth=0, background=\"#ffffff\")\n",
    "frame = tk.Frame(canvas, background=\"#ffffff\")\n",
    "vsb = tk.Scrollbar(root, orient=\"vertical\", command=canvas.yview)\n",
    "canvas.configure(yscrollcommand=vsb.set)\n",
    "\n",
    "vsb.pack(side=\"right\", fill=\"y\")\n",
    "canvas.pack(side=\"left\", fill=\"both\", expand=True)\n",
    "canvas.create_window((4,4), window=frame, anchor=\"nw\")\n",
    "\n",
    "frame.bind(\"<Configure>\", lambda event, canvas=canvas: onFrameConfigure(canvas))\n",
    "\n",
    "populate(frame)\n",
    "\n",
    "root.mainloop()"
   ]
  },
  {
   "cell_type": "code",
   "execution_count": 21,
   "metadata": {
    "collapsed": false
   },
   "outputs": [
    {
     "name": "stdout",
     "output_type": "stream",
     "text": [
      "['testtesttesttesttesttesttesttesttesttest\\ntesttesttesttesttesttesttesttesttesttes\\nttesttesttesttesttesttesttesttesttestte\\nsttesttesttesttesttesttesttesttesttestt\\nesttesttesttesttesttesttesttesttesttest\\ntesttesttesttesttesttest', 'dededededededededededededededededededede\\ndededededededededededededededededededed\\nededededededededededededededededededede\\ndededededededededededededededededededed\\nededededededededededededededededededede\\ndededededede']\n"
     ]
    }
   ],
   "source": [
    "def nettoyage(l, period):\n",
    "    res = []\n",
    "    for e in l:\n",
    "        for k in range(1,len(e)//period +1):\n",
    "            e = e[:period*k]+ '\\n' + e[period*k:]\n",
    "        res.append(e)\n",
    "\n",
    "    return res\n",
    "\n",
    "print(nettoyage(['test'*55, 'dede'*52],40))"
   ]
  },
  {
   "cell_type": "code",
   "execution_count": 46,
   "metadata": {
    "collapsed": false
   },
   "outputs": [],
   "source": [
    "from main import Chatbot\n",
    "\n",
    "bot = Chatbot(database_name = \"base_offres.csv\", nrows=1000 )\n"
   ]
  },
  {
   "cell_type": "code",
   "execution_count": 52,
   "metadata": {
    "collapsed": false
   },
   "outputs": [
    {
     "data": {
      "text/plain": [
       "('Cherchez-vous un emploi à temps plein ou à temps partiel ? ', ' ')"
      ]
     },
     "execution_count": 52,
     "metadata": {},
     "output_type": "execute_result"
    }
   ],
   "source": [
    "information = \"\"\n",
    "Chatbot.run(bot,\"\")"
   ]
  },
  {
   "cell_type": "code",
   "execution_count": 34,
   "metadata": {
    "collapsed": false
   },
   "outputs": [
    {
     "data": {
      "text/plain": [
       "('Cherchez-vous un emploi à temps plein ou à temps partiel ? ', ' ')"
      ]
     },
     "execution_count": 34,
     "metadata": {},
     "output_type": "execute_result"
    }
   ],
   "source": [
    "bot.run(\"partiel\")"
   ]
  },
  {
   "cell_type": "code",
   "execution_count": 35,
   "metadata": {
    "collapsed": false
   },
   "outputs": [
    {
     "name": "stdout",
     "output_type": "stream",
     "text": [
      "0\n"
     ]
    }
   ],
   "source": [
    "print(bot.step)"
   ]
  },
  {
   "cell_type": "code",
   "execution_count": null,
   "metadata": {
    "collapsed": true
   },
   "outputs": [],
   "source": [
    "def emploi_secteur(information):\n",
    "    info_tokens = tokenize(information)\n",
    "    self.current_tf_matrix_secteur = frequence_matrix(self.current_database)\n",
    "    secteurs = list(self.current_tf_matrix_secteur.columns)\n",
    "    tokens_utiles = [e for e in info_tokens if e in secteurs]\n",
    "    offres_utiles = []\n",
    "    for e in tokens_utiles:\n",
    "        offres_utiles += self.current_tf_matrix_secteur[self.current_tf_matrix_secteur[e] == 1]\n",
    "        offres_utiles = list(ct.unique(offres_utiles))\n",
    "        offres_utiles = sorted(offres_utiles)\n",
    "    self.current_database = self.current_database.iloc[offres_utiles]"
   ]
  },
  {
   "cell_type": "code",
   "execution_count": 54,
   "metadata": {
    "collapsed": false
   },
   "outputs": [
    {
     "ename": "AttributeError",
     "evalue": "'NoneType' object has no attribute '_root'",
     "output_type": "error",
     "traceback": [
      "\u001b[0;31m---------------------------------------------------------------------------\u001b[0m",
      "\u001b[0;31mAttributeError\u001b[0m                            Traceback (most recent call last)",
      "\u001b[0;32m<ipython-input-54-1c33cf2a4ff0>\u001b[0m in \u001b[0;36m<module>\u001b[0;34m()\u001b[0m\n\u001b[1;32m      1\u001b[0m \u001b[0;32mfrom\u001b[0m \u001b[0mtkinter\u001b[0m \u001b[0;32mimport\u001b[0m \u001b[0;34m*\u001b[0m\u001b[0;34m\u001b[0m\u001b[0m\n\u001b[0;32m----> 2\u001b[0;31m \u001b[0mstri\u001b[0m\u001b[0;34m=\u001b[0m\u001b[0mStringVar\u001b[0m\u001b[0;34m(\u001b[0m\u001b[0mvalue\u001b[0m\u001b[0;34m=\u001b[0m\u001b[0;34m'abc'\u001b[0m\u001b[0;34m)\u001b[0m\u001b[0;34m\u001b[0m\u001b[0m\n\u001b[0m",
      "\u001b[0;32m/home/mehdi/anaconda3/lib/python3.5/tkinter/__init__.py\u001b[0m in \u001b[0;36m__init__\u001b[0;34m(self, master, value, name)\u001b[0m\n\u001b[1;32m    327\u001b[0m         \u001b[0mthen\u001b[0m \u001b[0mthe\u001b[0m \u001b[0mexisting\u001b[0m \u001b[0mvalue\u001b[0m \u001b[0;32mis\u001b[0m \u001b[0mretained\u001b[0m\u001b[0;34m.\u001b[0m\u001b[0;34m\u001b[0m\u001b[0m\n\u001b[1;32m    328\u001b[0m         \"\"\"\n\u001b[0;32m--> 329\u001b[0;31m         \u001b[0mVariable\u001b[0m\u001b[0;34m.\u001b[0m\u001b[0m__init__\u001b[0m\u001b[0;34m(\u001b[0m\u001b[0mself\u001b[0m\u001b[0;34m,\u001b[0m \u001b[0mmaster\u001b[0m\u001b[0;34m,\u001b[0m \u001b[0mvalue\u001b[0m\u001b[0;34m,\u001b[0m \u001b[0mname\u001b[0m\u001b[0;34m)\u001b[0m\u001b[0;34m\u001b[0m\u001b[0m\n\u001b[0m\u001b[1;32m    330\u001b[0m \u001b[0;34m\u001b[0m\u001b[0m\n\u001b[1;32m    331\u001b[0m     \u001b[0;32mdef\u001b[0m \u001b[0mget\u001b[0m\u001b[0;34m(\u001b[0m\u001b[0mself\u001b[0m\u001b[0;34m)\u001b[0m\u001b[0;34m:\u001b[0m\u001b[0;34m\u001b[0m\u001b[0m\n",
      "\u001b[0;32m/home/mehdi/anaconda3/lib/python3.5/tkinter/__init__.py\u001b[0m in \u001b[0;36m__init__\u001b[0;34m(self, master, value, name)\u001b[0m\n\u001b[1;32m    231\u001b[0m         \u001b[0;32mif\u001b[0m \u001b[0;32mnot\u001b[0m \u001b[0mmaster\u001b[0m\u001b[0;34m:\u001b[0m\u001b[0;34m\u001b[0m\u001b[0m\n\u001b[1;32m    232\u001b[0m             \u001b[0mmaster\u001b[0m \u001b[0;34m=\u001b[0m \u001b[0m_default_root\u001b[0m\u001b[0;34m\u001b[0m\u001b[0m\n\u001b[0;32m--> 233\u001b[0;31m         \u001b[0mself\u001b[0m\u001b[0;34m.\u001b[0m\u001b[0m_root\u001b[0m \u001b[0;34m=\u001b[0m \u001b[0mmaster\u001b[0m\u001b[0;34m.\u001b[0m\u001b[0m_root\u001b[0m\u001b[0;34m(\u001b[0m\u001b[0;34m)\u001b[0m\u001b[0;34m\u001b[0m\u001b[0m\n\u001b[0m\u001b[1;32m    234\u001b[0m         \u001b[0mself\u001b[0m\u001b[0;34m.\u001b[0m\u001b[0m_tk\u001b[0m \u001b[0;34m=\u001b[0m \u001b[0mmaster\u001b[0m\u001b[0;34m.\u001b[0m\u001b[0mtk\u001b[0m\u001b[0;34m\u001b[0m\u001b[0m\n\u001b[1;32m    235\u001b[0m         \u001b[0;32mif\u001b[0m \u001b[0mname\u001b[0m\u001b[0;34m:\u001b[0m\u001b[0;34m\u001b[0m\u001b[0m\n",
      "\u001b[0;31mAttributeError\u001b[0m: 'NoneType' object has no attribute '_root'"
     ]
    }
   ],
   "source": [
    "from tkinter import *\n"
   ]
  }
 ],
 "metadata": {
  "anaconda-cloud": {},
  "kernelspec": {
   "display_name": "Python [conda root]",
   "language": "python",
   "name": "conda-root-py"
  },
  "language_info": {
   "codemirror_mode": {
    "name": "ipython",
    "version": 3
   },
   "file_extension": ".py",
   "mimetype": "text/x-python",
   "name": "python",
   "nbconvert_exporter": "python",
   "pygments_lexer": "ipython3",
   "version": "3.5.2"
  }
 },
 "nbformat": 4,
 "nbformat_minor": 1
}
